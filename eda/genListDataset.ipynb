{
 "cells": [
  {
   "attachments": {},
   "cell_type": "markdown",
   "metadata": {},
   "source": [
    "### 加载pair-wise数据集，返回一个list-wise的数据集，每个sample内包含5个文档，context全相同，label为是否点击"
   ]
  },
  {
   "cell_type": "code",
   "execution_count": 1,
   "metadata": {},
   "outputs": [],
   "source": [
    "pairwise_path = \"/home/zhaoheng_huang/CAGS_data/Rank/data/aol/train/train_line_pairwise.txt\"\n",
    "listwise_path = \"/home/zhaoheng_huang/CAGS_data/Rank/data/aol/train/train_list.txt\""
   ]
  },
  {
   "cell_type": "code",
   "execution_count": 2,
   "metadata": {},
   "outputs": [],
   "source": [
    "with open(pairwise_path, \"r\") as fp:\n",
    "    pair_data = fp.readlines()\n",
    "pair_data = list(map(lambda x: [y.split(\"\\t\") for y in x.strip().split(\"[####]\")], pair_data))"
   ]
  },
  {
   "cell_type": "code",
   "execution_count": 3,
   "metadata": {},
   "outputs": [],
   "source": [
    "def getNextIndex(List, curID, length):\n",
    "    \"\"\"\n",
    "    获得下一组ongoing session的初始下标\n",
    "    \"\"\"\n",
    "    session = List[curID][0]\n",
    "    resID = curID + 1\n",
    "    while resID < length and List[resID][0] == session:\n",
    "        resID += 1\n",
    "    return resID"
   ]
  },
  {
   "cell_type": "code",
   "execution_count": 4,
   "metadata": {},
   "outputs": [],
   "source": [
    "def genListwise_aol(sessionPair: list) -> list:\n",
    "    length = len(sessionPair)\n",
    "    curID = 0\n",
    "    res = []   # sample: {\"clicksession\": 1, \"unclicksession\": 0, ...}\n",
    "    while curID < length:\n",
    "        nextID = getNextIndex(sessionPair, curID, length)\n",
    "        sample = {}\n",
    "        for i in range(curID, nextID):\n",
    "            sample[\"\\t\".join(sessionPair[i][1])] = 0\n",
    "        sample[\"\\t\".join(sessionPair[curID][0])] = 1 # 已点击，覆盖掉未点击的结果\n",
    "        sample = list(sorted(sample.items(), key=lambda x: -x[1]))\n",
    "        if len(sample) == 1: pass   # navigation query\n",
    "        else:\n",
    "            appendSize = 5 - len(sample)\n",
    "            for i in range(appendSize):\n",
    "                k, v = sample[-1]\n",
    "                sample.append((k, v))\n",
    "            res.append(sample)\n",
    "        curID = nextID\n",
    "    return res"
   ]
  },
  {
   "cell_type": "code",
   "execution_count": 5,
   "metadata": {},
   "outputs": [],
   "source": [
    "res = genListwise_aol(sessionPair = pair_data)"
   ]
  },
  {
   "cell_type": "code",
   "execution_count": 8,
   "metadata": {},
   "outputs": [
    {
     "data": {
      "text/plain": [
       "[('mapquest com\\tofficial mapquest maps driving directions live traffic', 1),\n",
       " ('mapquest com\\tmapquest driving directions', 0),\n",
       " ('mapquest com\\tmapquest developer network mapping encoding routes traffic mapquest developer network',\n",
       "  0),\n",
       " ('mapquest com\\tmapquest developer network mapping encoding routes traffic mapquest developer network',\n",
       "  0),\n",
       " ('mapquest com\\tmapquest developer network mapping encoding routes traffic mapquest developer network',\n",
       "  0)]"
      ]
     },
     "execution_count": 8,
     "metadata": {},
     "output_type": "execute_result"
    }
   ],
   "source": [
    "res[0]"
   ]
  },
  {
   "attachments": {},
   "cell_type": "markdown",
   "metadata": {},
   "source": [
    "### 数据集每一行被[####]分开成五个部分，其中第一个是点击的序列，剩下的是未点击"
   ]
  },
  {
   "cell_type": "code",
   "execution_count": 9,
   "metadata": {},
   "outputs": [],
   "source": [
    "with open(listwise_path, \"w\") as fw:\n",
    "    for line in res:\n",
    "        # 按click和unclick分类存储\n",
    "        writeline = []\n",
    "        for seq, label in line:\n",
    "            writeline.append(seq)\n",
    "        writeline = \"[####]\".join(writeline)\n",
    "        fw.write(writeline+\"\\n\")"
   ]
  },
  {
   "cell_type": "code",
   "execution_count": 10,
   "metadata": {},
   "outputs": [
    {
     "name": "stdout",
     "output_type": "stream",
     "text": [
      "mapquest com\tofficial mapquest maps driving directions live traffic[####]mapquest com\tmapquest driving directions[####]mapquest com\tmapquest developer network mapping encoding routes traffic mapquest developer network[####]mapquest com\tmapquest developer network mapping encoding routes traffic mapquest developer network[####]mapquest com\tmapquest developer network mapping encoding routes traffic mapquest developer network\n",
      "mapquest com\tofficial mapquest maps driving directions live traffic\tmapquest com\tofficial mapquest maps driving directions live traffic[####]mapquest com\tofficial mapquest maps driving directions live traffic\tmapquest com\tmapquest driving directions[####]mapquest com\tofficial mapquest maps driving directions live traffic\tmapquest com\thow can we help mapquest help[####]mapquest com\tofficial mapquest maps driving directions live traffic\tmapquest com\tdiscover the new mapquest[####]mapquest com\tofficial mapquest maps driving directions live traffic\tmapquest com\tdiscover the new mapquest\n",
      "pentail pools com\tpentail high performance pool and spa equipment for pool perfection[####]pentail pools com\tpentail equipment training series[####]pentail pools com\tpentail aurora pump[####]pentail pools com\tpentail pentail fluid motion[####]pentail pools com\tpentail pentail fluid motion\n",
      "pentail pools com\tpentail high performance pool and spa equipment for pool perfection\tpentail pools com\tpentail high performance pool and spa equipment for pool perfection[####]pentail pools com\tpentail high performance pool and spa equipment for pool perfection\tpentail pools com\tmarlin pools long island in ground pool installation pool repair and renovation long island pool scapes and custom pool design[####]pentail pools com\tpentail high performance pool and spa equipment for pool perfection\tpentail pools com\tdiscount swimming pool liners in ground above ground pools swimming pool liners com[####]pentail pools com\tpentail high performance pool and spa equipment for pool perfection\tpentail pools com\tcoral pools coral pools phoenix premier pool builder[####]pentail pools com\tpentail high performance pool and spa equipment for pool perfection\tpentail pools com\tcoral pools coral pools phoenix premier pool builder\n",
      "pentail pools com\tpentail high performance pool and spa equipment for pool perfection\tpentail pools com\tpentail global leader in water fluid thermal gmt equipment protection[####]pentail pools com\tpentail high performance pool and spa equipment for pool perfection\tpentail pools com\tmarlin pools long island in ground pool installation pool repair and renovation long island pool scapes and custom pool design[####]pentail pools com\tpentail high performance pool and spa equipment for pool perfection\tpentail pools com\tdiscount swimming pool liners in ground above ground pools swimming pool liners com[####]pentail pools com\tpentail high performance pool and spa equipment for pool perfection\tpentail pools com\tcoral pools coral pools phoenix premier pool builder[####]pentail pools com\tpentail high performance pool and spa equipment for pool perfection\tpentail pools com\tcoral pools coral pools phoenix premier pool builder\n",
      "pentail pools com\tpentail high performance pool and spa equipment for pool perfection\tpentail pools com\tpentail high performance pool and spa equipment for pool perfection\tpentail water temperature sensors\tpentail high performance pool and spa equipment for pool perfection[####]pentail pools com\tpentail high performance pool and spa equipment for pool perfection\tpentail pools com\tpentail high performance pool and spa equipment for pool perfection\tpentail water temperature sensors\tpressure level flow and temperature measurement sor inc[####]pentail pools com\tpentail high performance pool and spa equipment for pool perfection\tpentail pools com\tpentail high performance pool and spa equipment for pool perfection\tpentail water temperature sensors\tscrap metal high temperature alloy scrap and high temperature scrap metal monico alloys[####]pentail pools com\tpentail high performance pool and spa equipment for pool perfection\tpentail pools com\tpentail high performance pool and spa equipment for pool perfection\tpentail water temperature sensors\tashcroft pressure and temperature instrumentation trust the shield[####]pentail pools com\tpentail high performance pool and spa equipment for pool perfection\tpentail pools com\tpentail high performance pool and spa equipment for pool perfection\tpentail water temperature sensors\tashcroft pressure and temperature instrumentation trust the shield\n",
      "cheats\tsuper cheats game cheats codes help and walkthroughs[####]cheats\tdb cheat codes com when you can t win cheat pc based games cheat codes where cheating is encouraged[####]cheats\tcheat codes club cheat codes search engine[####]cheats\tcheats cheat codes hints guides faqs[####]cheats\tcheat search search for video game cheats and cheat codes\n",
      "cheats\tsuper cheats game cheats codes help and walkthroughs\tcheats\tgame wiki guides cheats walkthroughs faqs ign[####]cheats\tsuper cheats game cheats codes help and walkthroughs\tcheats\tlexical word finder scrabble and words with friends cheat[####]cheats\tsuper cheats game cheats codes help and walkthroughs\tcheats\twww extreme cheats com has been registered[####]cheats\tsuper cheats game cheats codes help and walkthroughs\tcheats\ta cheaters cheats codes spiels tips and trainer[####]cheats\tsuper cheats game cheats codes help and walkthroughs\tcheats\tvideo games and pinball cheats and easter eggs a\n",
      "cheats\tsuper cheats game cheats codes help and walkthroughs\tcheats\tgame wiki guides cheats walkthroughs faqs ign\tcheats\tgamefaqs video game cheats reviews faqs message boards and more[####]cheats\tsuper cheats game cheats codes help and walkthroughs\tcheats\tgame wiki guides cheats walkthroughs faqs ign\tcheats\ttrainers city trainers cheat codes for pc consoles and smartphone[####]cheats\tsuper cheats game cheats codes help and walkthroughs\tcheats\tgame wiki guides cheats walkthroughs faqs ign\tcheats\tmarried wife cheating wives wife lovers horney housewives married dating[####]cheats\tsuper cheats game cheats codes help and walkthroughs\tcheats\tgame wiki guides cheats walkthroughs faqs ign\tcheats\tgames are us computer and video games news cheats hints forums[####]cheats\tsuper cheats game cheats codes help and walkthroughs\tcheats\tgame wiki guides cheats walkthroughs faqs ign\tcheats\tx unleashed your one stop source for mmorpg guides hacks cheats tricks and tips\n",
      "www choice privileges com\tchoice hotels[####]www choice privileges com\tchoice programs[####]www choice privileges com\tchoices for children[####]www choice privileges com\tpay choice[####]www choice privileges com\tpay choice\n"
     ]
    }
   ],
   "source": [
    "!head $listwise_path"
   ]
  },
  {
   "cell_type": "code",
   "execution_count": null,
   "metadata": {},
   "outputs": [],
   "source": [
    "!head "
   ]
  },
  {
   "cell_type": "code",
   "execution_count": 51,
   "metadata": {},
   "outputs": [
    {
     "data": {
      "text/plain": [
       "[{'mapquest com\\tofficial mapquest maps driving directions live traffic': 1,\n",
       "  'mapquest com\\tmapquest driving directions': 0,\n",
       "  'mapquest com\\tmapquest developer network mapping encoding routes traffic mapquest developer network': 0},\n",
       " {'mapquest com\\tofficial mapquest maps driving directions live traffic\\tmapquest com\\tofficial mapquest maps driving directions live traffic': 1,\n",
       "  'mapquest com\\tofficial mapquest maps driving directions live traffic\\tmapquest com\\tmapquest driving directions': 0,\n",
       "  'mapquest com\\tofficial mapquest maps driving directions live traffic\\tmapquest com\\thow can we help mapquest help': 0,\n",
       "  'mapquest com\\tofficial mapquest maps driving directions live traffic\\tmapquest com\\tdiscover the new mapquest': 0},\n",
       " {'pentail pools com\\tpentail high performance pool and spa equipment for pool perfection': 1,\n",
       "  'pentail pools com\\tpentail equipment training series': 0,\n",
       "  'pentail pools com\\tpentail aurora pump': 0,\n",
       "  'pentail pools com\\tpentail pentail fluid motion': 0},\n",
       " {'pentail pools com\\tpentail high performance pool and spa equipment for pool perfection\\tpentail pools com\\tpentail high performance pool and spa equipment for pool perfection': 1,\n",
       "  'pentail pools com\\tpentail high performance pool and spa equipment for pool perfection\\tpentail pools com\\tmarlin pools long island in ground pool installation pool repair and renovation long island pool scapes and custom pool design': 0,\n",
       "  'pentail pools com\\tpentail high performance pool and spa equipment for pool perfection\\tpentail pools com\\tdiscount swimming pool liners in ground above ground pools swimming pool liners com': 0,\n",
       "  'pentail pools com\\tpentail high performance pool and spa equipment for pool perfection\\tpentail pools com\\tcoral pools coral pools phoenix premier pool builder': 0},\n",
       " {'pentail pools com\\tpentail high performance pool and spa equipment for pool perfection\\tpentail pools com\\tpentail global leader in water fluid thermal gmt equipment protection': 1,\n",
       "  'pentail pools com\\tpentail high performance pool and spa equipment for pool perfection\\tpentail pools com\\tmarlin pools long island in ground pool installation pool repair and renovation long island pool scapes and custom pool design': 0,\n",
       "  'pentail pools com\\tpentail high performance pool and spa equipment for pool perfection\\tpentail pools com\\tdiscount swimming pool liners in ground above ground pools swimming pool liners com': 0,\n",
       "  'pentail pools com\\tpentail high performance pool and spa equipment for pool perfection\\tpentail pools com\\tcoral pools coral pools phoenix premier pool builder': 0}]"
      ]
     },
     "execution_count": 51,
     "metadata": {},
     "output_type": "execute_result"
    }
   ],
   "source": [
    "res[:5]"
   ]
  },
  {
   "cell_type": "code",
   "execution_count": 43,
   "metadata": {},
   "outputs": [
    {
     "data": {
      "text/plain": [
       "[['mapquest com',\n",
       "  'official mapquest maps driving directions live traffic',\n",
       "  'mapquest com',\n",
       "  'official mapquest maps driving directions live traffic'],\n",
       " ['mapquest com',\n",
       "  'official mapquest maps driving directions live traffic',\n",
       "  'mapquest com',\n",
       "  'official mapquest maps driving directions live traffic']]"
      ]
     },
     "execution_count": 43,
     "metadata": {},
     "output_type": "execute_result"
    }
   ],
   "source": [
    "pair_data[4]"
   ]
  },
  {
   "cell_type": "code",
   "execution_count": null,
   "metadata": {},
   "outputs": [],
   "source": []
  }
 ],
 "metadata": {
  "kernelspec": {
   "display_name": "cagsdp",
   "language": "python",
   "name": "python3"
  },
  "language_info": {
   "codemirror_mode": {
    "name": "ipython",
    "version": 3
   },
   "file_extension": ".py",
   "mimetype": "text/x-python",
   "name": "python",
   "nbconvert_exporter": "python",
   "pygments_lexer": "ipython3",
   "version": "3.8.13"
  },
  "orig_nbformat": 4
 },
 "nbformat": 4,
 "nbformat_minor": 2
}
