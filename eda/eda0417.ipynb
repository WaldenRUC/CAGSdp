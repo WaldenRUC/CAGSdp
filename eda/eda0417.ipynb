{
 "cells": [
  {
   "cell_type": "code",
   "execution_count": 1,
   "metadata": {},
   "outputs": [],
   "source": [
    "import pickle, os\n",
    "with open(\"/home/zhaoheng_huang/CAGS_data/Pretrain/data/aol/train/id2sent.pkl\", \"rb\") as fp:\n",
    "    id2sent = pickle.load(fp)\n",
    "with open(\"/home/zhaoheng_huang/CAGS_data/Pretrain/data/aol/train/sent2id.pkl\", \"rb\") as fp:\n",
    "    sent2id = pickle.load(fp)\n",
    "res_path = \"/home/zhaoheng_huang/CAGS_data/preprocess\"\n",
    "traindata_path = \"/home/zhaoheng_huang/CAGS_data/Rank/data/aol/train/train_line.txt\""
   ]
  },
  {
   "cell_type": "code",
   "execution_count": 2,
   "metadata": {},
   "outputs": [],
   "source": [
    "with open(os.path.join(res_path, \"utterdict.pkl\"), 'wb') as fp:\n",
    "    \"\"\"\n",
    "    utterdict: int -> utter 或者utter -> int\n",
    "    \"\"\"\n",
    "    res = {}\n",
    "    for i, sent in id2sent.items():\n",
    "        res[i] = sent\n",
    "    for sent, i in sent2id.items():\n",
    "        res[sent] = i\n",
    "    pickle.dump(res, fp)"
   ]
  },
  {
   "cell_type": "code",
   "execution_count": 3,
   "metadata": {},
   "outputs": [],
   "source": [
    "class Utterdict():\n",
    "    def __init__(self, path: str) -> None:\n",
    "        with open(path, \"rb\") as fp:\n",
    "            self.utterdict = pickle.load(fp)\n",
    "        self.querydict, self.querydictid = self.extractQ()\n",
    "        self.docdict, self.docdictid = self.extractD()\n",
    "    def extractQ(self) -> dict:\n",
    "        res = {}\n",
    "        resid = []\n",
    "        for k, v in self.utterdict.items():\n",
    "            if type(v) == str and v.startswith(\"<q>\"):\n",
    "                res[k] = v[3:]\n",
    "                res[v[3:]] = k\n",
    "                resid.append(k)\n",
    "        return res, resid\n",
    "    def extractD(self) -> dict:\n",
    "        res = {}\n",
    "        resid = []\n",
    "        for k, v in self.utterdict.items():\n",
    "            if type(v) == str and v.startswith(\"<d>\"):\n",
    "                res[k] = v[3:]\n",
    "                res[v[3:]] = k\n",
    "                resid.append(k)\n",
    "        return res, resid"
   ]
  },
  {
   "cell_type": "code",
   "execution_count": 4,
   "metadata": {},
   "outputs": [],
   "source": [
    "utter = Utterdict(os.path.join(res_path, \"utterdict.pkl\"))"
   ]
  },
  {
   "cell_type": "code",
   "execution_count": 5,
   "metadata": {},
   "outputs": [],
   "source": [
    "with open(\"/home/zhaoheng_huang/CAGS_data/Rank/data/aol/train/train_line.txt\", \"r\") as fp:\n",
    "    sessList = fp.readlines()\n",
    "    def wash(x) -> list:\n",
    "        x = x.strip().split(\"\\t\")\n",
    "        for i in range(len(x)):\n",
    "            x[i] = x[i].strip()\n",
    "        return x\n",
    "    sessList = list(map(wash, sessList))"
   ]
  },
  {
   "cell_type": "code",
   "execution_count": 6,
   "metadata": {},
   "outputs": [],
   "source": [
    "from collections import defaultdict\n",
    "clickGraph = defaultdict(set)  # q -> d, d -> q\n",
    "for sess in sessList:\n",
    "    if sess[0] == '1':  # 点击\n",
    "        sess = sess[1:]\n",
    "        for i in range(0, len(sess), 2):\n",
    "            q, d = sess[i], sess[i+1]\n",
    "            q_id, d_id = utter.querydict[q], utter.docdict[d]\n",
    "            clickGraph[q_id].add(d_id)\n",
    "            clickGraph[d_id].add(q_id)"
   ]
  },
  {
   "cell_type": "code",
   "execution_count": 18,
   "metadata": {},
   "outputs": [],
   "source": [
    "with open(\"/home/zhaoheng_huang/CAGS_data/TransE/train.txt\", \"w\") as fp:\n",
    "    for node in clickGraph:\n",
    "        outernodes = list(clickGraph[node])\n",
    "        for tail in outernodes: # node, tail为一对边\n",
    "            fp.write(\"\\t\".join([str(node), \"0\", str(tail)]) + \"\\n\")"
   ]
  },
  {
   "cell_type": "code",
   "execution_count": 19,
   "metadata": {},
   "outputs": [
    {
     "name": "stdout",
     "output_type": "stream",
     "text": [
      "125696\t0\t319691\n",
      "125696\t0\t272989\n",
      "319691\t0\t151554\n",
      "319691\t0\t81925\n",
      "319691\t0\t81926\n",
      "319691\t0\t81929\n",
      "319691\t0\t125453\n",
      "319691\t0\t98849\n",
      "319691\t0\t98850\n",
      "319691\t0\t98851\n"
     ]
    }
   ],
   "source": [
    "!head /home/zhaoheng_huang/CAGS_data/TransE/train.txt"
   ]
  },
  {
   "cell_type": "code",
   "execution_count": null,
   "metadata": {},
   "outputs": [],
   "source": []
  }
 ],
 "metadata": {
  "kernelspec": {
   "display_name": "cagsdp",
   "language": "python",
   "name": "python3"
  },
  "language_info": {
   "codemirror_mode": {
    "name": "ipython",
    "version": 3
   },
   "file_extension": ".py",
   "mimetype": "text/x-python",
   "name": "python",
   "nbconvert_exporter": "python",
   "pygments_lexer": "ipython3",
   "version": "3.8.13"
  },
  "orig_nbformat": 4
 },
 "nbformat": 4,
 "nbformat_minor": 2
}
